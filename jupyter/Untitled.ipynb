{
 "cells": [
  {
   "cell_type": "code",
   "execution_count": null,
   "id": "92cfc6f7-091a-4a07-814f-c6949a7677aa",
   "metadata": {},
   "outputs": [
    {
     "name": "stdout",
     "output_type": "stream",
     "text": [
      "Found existing installation: pandas 1.1.5\n",
      "Uninstalling pandas-1.1.5:\n",
      "  Would remove:\n",
      "    /home/azureuser/.local/lib/python3.6/site-packages/pandas-1.1.5.dist-info/*\n",
      "    /home/azureuser/.local/lib/python3.6/site-packages/pandas/*\n",
      "Proceed (y/n)? "
     ]
    }
   ],
   "source": [
    "pip uninstall pandas"
   ]
  },
  {
   "cell_type": "code",
   "execution_count": null,
   "id": "5efdcdd0-644c-4fc4-b796-dc8574e8537b",
   "metadata": {},
   "outputs": [],
   "source": [
    "y"
   ]
  },
  {
   "cell_type": "code",
   "execution_count": null,
   "id": "6f1801fd-b102-45cc-a24a-b4b6154c00d0",
   "metadata": {},
   "outputs": [],
   "source": []
  }
 ],
 "metadata": {
  "kernelspec": {
   "display_name": "Python 3",
   "language": "python",
   "name": "python3"
  },
  "language_info": {
   "codemirror_mode": {
    "name": "ipython",
    "version": 3
   },
   "file_extension": ".py",
   "mimetype": "text/x-python",
   "name": "python",
   "nbconvert_exporter": "python",
   "pygments_lexer": "ipython3",
   "version": "3.6.15"
  }
 },
 "nbformat": 4,
 "nbformat_minor": 5
}
