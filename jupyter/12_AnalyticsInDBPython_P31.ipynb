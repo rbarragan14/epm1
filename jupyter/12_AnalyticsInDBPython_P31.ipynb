{
 "cells": [
  {
   "cell_type": "markdown",
   "id": "9227287a-6126-4886-beea-825eb5b57112",
   "metadata": {},
   "source": [
    "# Analítica in-databse con Python y Vantage - Parte 3 (BYOM)\n",
    "\n",
    "**Notas**\n",
    "* BYOM: https://docs.teradata.com/r/Teradata-VantageTM-Bring-Your-Own-Model-User-Guide/May-2022/Bring-Your-Own-Model\n",
    "\n",
    "**Contenido**\n",
    "1. Cargar librerias\n",
    "2. Preparar Datos\n",
    "3. Entrenar Modelo\n",
    "4. Exportar modelo a PMML\n",
    "5. Cargar modelo PMML a Teradata\n",
    "6. Predecir"
   ]
  },
  {
   "cell_type": "code",
   "execution_count": 1,
   "id": "a5f4b08d-e909-4595-900b-75780f309749",
   "metadata": {},
   "outputs": [],
   "source": [
    "import pandas as pd\n",
    "import getpass\n",
    "\n",
    "from teradataml import (\n",
    "    create_context, \n",
    "    remove_context,\n",
    "    get_context,\n",
    "    get_connection,\n",
    "    DataFrame,\n",
    "    retrieve_byom,\n",
    "    PMMLPredict,\n",
    "    configure)"
   ]
  },
  {
   "cell_type": "code",
   "execution_count": 2,
   "id": "d62cfa32-4f96-4e12-a8b5-5a64fe6bea72",
   "metadata": {},
   "outputs": [
    {
     "name": "stdin",
     "output_type": "stream",
     "text": [
      "pwd: ········\n"
     ]
    }
   ],
   "source": [
    "host=\"10.40.176.7\"  #hostname o IP de Teradata\n",
    "username=\"teradataml\" #usuario de base de datos\n",
    "password=getpass.getpass(prompt='pwd:') #password del usuario de base de datos\n",
    "database=\"teradataml\" #DB donde residen los datos\n",
    "dbtmp=\"teradataml\"  #DB de trabajo para las funciones analíticas\n"
   ]
  },
  {
   "cell_type": "code",
   "execution_count": 6,
   "id": "f009ba45-2bb9-45b0-907f-20106194f974",
   "metadata": {},
   "outputs": [],
   "source": [
    "context=create_context(host=host, username=username, database=database, password=password, logmech=\"TDNEGO\")"
   ]
  },
  {
   "cell_type": "markdown",
   "id": "98012aca-0619-4cf3-ba39-d7768067e0c8",
   "metadata": {},
   "source": [
    "## Cargar datos"
   ]
  },
  {
   "cell_type": "code",
   "execution_count": 14,
   "id": "1d43a0ee-17df-4ebc-83f7-52ec3ba389b4",
   "metadata": {},
   "outputs": [],
   "source": [
    "from teradataml import copy_to_sql\n",
    "pdf=pd.read_csv(\"data\\pima_patient_diagnoses.csv\")\n",
    "copy_to_sql(df=pdf,schema_name=database,table_name=\"pima_patient_diagnoses\",if_exists=\"replace\")"
   ]
  },
  {
   "cell_type": "code",
   "execution_count": 16,
   "id": "7d24bd0c-6a6f-49fa-bc47-aa940edfd661",
   "metadata": {},
   "outputs": [],
   "source": [
    "pdf=pd.read_csv(\"data\\pima_patient_features.csv\")\n",
    "copy_to_sql(df=pdf,schema_name=database,table_name=\"pima_patient_features\",if_exists=\"replace\")"
   ]
  },
  {
   "cell_type": "markdown",
   "id": "cee9d0f9-a498-4ecd-b755-97f26fa40fac",
   "metadata": {},
   "source": [
    "## Preparar datos"
   ]
  },
  {
   "cell_type": "code",
   "execution_count": 17,
   "id": "274c2553-1e7b-406d-8911-f22e1e2f5085",
   "metadata": {},
   "outputs": [],
   "source": [
    "train_pdf = DataFrame.from_query(\"\"\"\n",
    "SELECT \n",
    "    F.*, D.hasdiabetes \n",
    "FROM pima_patient_features F\n",
    "JOIN pima_patient_diagnoses D\n",
    "    ON F.patientid = D.patientid \n",
    "    WHERE F.patientid MOD 5 <> 0\n",
    "\"\"\").to_pandas(all_rows=True)\n",
    "\n",
    "\n",
    "# split data into X and y\n",
    "features = [\"NumTimesPrg\", \"Age\", \"PlGlcConc\", \"BloodP\", \"SkinThick\", \"TwoHourSerIns\", \"BMI\", \"DiPedFunc\"]\n",
    "X_train = train_pdf[features]\n",
    "\n",
    "target = \"HasDiabetes\"\n",
    "y_train = train_pdf[target]"
   ]
  },
  {
   "cell_type": "markdown",
   "id": "28c022ce-78d7-450a-8a46-8feb13a0bd00",
   "metadata": {},
   "source": [
    "## Entrenar al modelo"
   ]
  },
  {
   "cell_type": "code",
   "execution_count": null,
   "id": "9cb67ca7-9c42-40af-9d2a-ae99404680e5",
   "metadata": {},
   "outputs": [
    {
     "name": "stdout",
     "output_type": "stream",
     "text": [
      "Finished training\n"
     ]
    }
   ],
   "source": [
    "from xgboost import XGBClassifier\n",
    "from sklearn.preprocessing import MinMaxScaler\n",
    "from sklearn.pipeline import Pipeline\n",
    "\n",
    "model = Pipeline([('scaler', MinMaxScaler()),\n",
    "                  ('xgb', XGBClassifier(eta=0.2, max_depth=6))])\n",
    "model.fit(X_train, y_train)\n",
    "print(\"Finished training\")"
   ]
  },
  {
   "cell_type": "markdown",
   "id": "aaefd5c7-e1d7-48f1-8ffd-d716e3017572",
   "metadata": {},
   "source": [
    "## Convertir el modelo a PMML"
   ]
  },
  {
   "cell_type": "code",
   "execution_count": 21,
   "id": "961d0dac-68b9-4d79-be11-9eb88ed27bf3",
   "metadata": {},
   "outputs": [],
   "source": [
    "from nyoka import xgboost_to_pmml\n",
    "\n",
    "xgboost_to_pmml(pipeline=model, col_names=features, target_name=target, pmml_f_name=\"modelo_diagnostico_diabetes_rf.pmml\")"
   ]
  },
  {
   "cell_type": "markdown",
   "id": "589fbdda-e7e5-4d9f-b31e-05456ae18ba8",
   "metadata": {},
   "source": [
    "## Cargar modelo a Teradara"
   ]
  },
  {
   "cell_type": "code",
   "execution_count": 7,
   "id": "e53123e0-ae87-4859-92ea-f0525f0a91be",
   "metadata": {},
   "outputs": [
    {
     "name": "stderr",
     "output_type": "stream",
     "text": [
      "C:\\Python_Projects\\vantage\\lib\\site-packages\\teradataml\\catalog\\byom.py:639: UserWarning: Specified table does not exist and data types of Description, ModelSavedTime, ModelGeneratedDate, ModelGeneratedTime columns are not provided. Taking default datatypes.\n",
      "  warnings.warn(\"Specified table does not exist and data types of {0} \"\\\n"
     ]
    },
    {
     "name": "stdout",
     "output_type": "stream",
     "text": [
      "Created the model table 'modelos_pmml' as it does not exist.\n",
      "Model is saved.\n"
     ]
    }
   ],
   "source": [
    "import  datetime\n",
    "from teradataml import  save_byom \n",
    "\n",
    "model_id = 'diagnostico_diabetes_rf'\n",
    "model_file = 'modelo_diagnostico_diabetes_rf.pmml'\n",
    "table_name = 'modelos_pmml'\n",
    "\n",
    "save_byom(model_id,\n",
    "          model_file,\n",
    "          table_name,\n",
    "          additional_columns={\"Description\": \"XGBoost\",\n",
    "                              \"ModelSavedTime\": datetime.datetime.now(),\n",
    "                              \"ModelGeneratedDate\":datetime.date.today(),\n",
    "                              \"ModelGeneratedTime\": datetime.time(hour=0,minute=5,second=45,microsecond=110)\n",
    "                              },\n",
    "              schema_name=database\n",
    "              )"
   ]
  },
  {
   "cell_type": "markdown",
   "id": "e0b9cc91-ec75-4882-a476-bf528296dcd9",
   "metadata": {},
   "source": [
    "## Consultar modelos"
   ]
  },
  {
   "cell_type": "code",
   "execution_count": 25,
   "id": "a47a3dca-9e32-4859-aef8-f27f685a6d21",
   "metadata": {},
   "outputs": [
    {
     "data": {
      "text/html": [
       "<div>\n",
       "<style scoped>\n",
       "    .dataframe tbody tr th:only-of-type {\n",
       "        vertical-align: middle;\n",
       "    }\n",
       "\n",
       "    .dataframe tbody tr th {\n",
       "        vertical-align: top;\n",
       "    }\n",
       "\n",
       "    .dataframe thead th {\n",
       "        text-align: right;\n",
       "    }\n",
       "</style>\n",
       "<table border=\"1\" class=\"dataframe\">\n",
       "  <thead>\n",
       "    <tr style=\"text-align: right;\">\n",
       "      <th></th>\n",
       "      <th>model_id</th>\n",
       "      <th>model</th>\n",
       "      <th>Description</th>\n",
       "      <th>ModelSavedTime</th>\n",
       "      <th>ModelGeneratedDate</th>\n",
       "      <th>ModelGeneratedTime</th>\n",
       "    </tr>\n",
       "  </thead>\n",
       "  <tbody>\n",
       "    <tr>\n",
       "      <th>0</th>\n",
       "      <td>diagnostico_diabetes_rf</td>\n",
       "      <td>b'&lt;?xml version=\"1.0\" encoding=\"UTF-8\"?&gt;\\r\\n&lt;PMML xmlns=\"http://www.dmg.org/PMML-4_4\" version=\"4.4.1\"&gt;\\r\\n    &lt;Header copyright=\"Copyright (c) 2021 Software AG\" description=\"Default description\"&gt;\\r\\n        &lt;Application name=\"Nyoka\" version=\"5.3....</td>\n",
       "      <td>XGBoost</td>\n",
       "      <td>2022-09-07 10:26:22.150481</td>\n",
       "      <td>2022-09-07</td>\n",
       "      <td>00:05:45.000110</td>\n",
       "    </tr>\n",
       "  </tbody>\n",
       "</table>\n",
       "</div>"
      ],
      "text/plain": [
       "                  model_id  \\\n",
       "0  diagnostico_diabetes_rf   \n",
       "\n",
       "                                                                                                                                                                                                                                                       model  \\\n",
       "0  b'<?xml version=\"1.0\" encoding=\"UTF-8\"?>\\r\\n<PMML xmlns=\"http://www.dmg.org/PMML-4_4\" version=\"4.4.1\">\\r\\n    <Header copyright=\"Copyright (c) 2021 Software AG\" description=\"Default description\">\\r\\n        <Application name=\"Nyoka\" version=\"5.3....   \n",
       "\n",
       "  Description             ModelSavedTime ModelGeneratedDate ModelGeneratedTime  \n",
       "0     XGBoost 2022-09-07 10:26:22.150481         2022-09-07    00:05:45.000110  "
      ]
     },
     "execution_count": 25,
     "metadata": {},
     "output_type": "execute_result"
    }
   ],
   "source": [
    "pd.options.display.max_colwidth = 250\n",
    "pd.read_sql(f'SELECT TOP 2 * FROM {database}.modelos_rf', get_connection())"
   ]
  },
  {
   "cell_type": "code",
   "execution_count": 26,
   "id": "a9225436-fa4f-44aa-b923-4152fb5130ae",
   "metadata": {},
   "outputs": [
    {
     "name": "stdout",
     "output_type": "stream",
     "text": [
      "                                       model\n",
      "model_id                                    \n",
      "consumo_energia_lr  b'3C3F786D6C20766572...'\n"
     ]
    }
   ],
   "source": [
    "from teradataml import  list_byom\n",
    "list_byom(table_name=\"modelos\")"
   ]
  },
  {
   "cell_type": "markdown",
   "id": "998c5672-d4d2-42a5-a00f-8fe325ff70e1",
   "metadata": {},
   "source": [
    "## Predecir"
   ]
  },
  {
   "cell_type": "code",
   "execution_count": 27,
   "id": "6ca92bae-35ca-4729-af48-130b8033564e",
   "metadata": {},
   "outputs": [
    {
     "data": {
      "text/html": [
       "<style type=\"text/css\">\n",
       "\ttable {border:ridge 5px;}\n",
       "\ttable td {border:inset 1px;}\n",
       "\ttable tr#HeaderRow {background-color:grey; color:white;}</style>\n",
       "<html><table>\n",
       "\t<tr id=\"HeaderRow\">\n",
       "\t\t<th>PatientId</th>\n",
       "\t\t<th>NumTimesPrg</th>\n",
       "\t\t<th>PlGlcConc</th>\n",
       "\t\t<th>BloodP</th>\n",
       "\t\t<th>SkinThick</th>\n",
       "\t\t<th>TwoHourSerIns</th>\n",
       "\t\t<th>BMI</th>\n",
       "\t\t<th>DiPedFunc</th>\n",
       "\t\t<th>Age</th>\n",
       "\t</tr>\n",
       "\t<tr>\n",
       "\t\t<td>2</td>\n",
       "\t\t<td>8</td>\n",
       "\t\t<td>183</td>\n",
       "\t\t<td>64</td>\n",
       "\t\t<td>0</td>\n",
       "\t\t<td>0</td>\n",
       "\t\t<td>23.3</td>\n",
       "\t\t<td>0.672</td>\n",
       "\t\t<td>32</td>\n",
       "\t</tr>\n",
       "\t<tr>\n",
       "\t\t<td>1</td>\n",
       "\t\t<td>1</td>\n",
       "\t\t<td>85</td>\n",
       "\t\t<td>66</td>\n",
       "\t\t<td>29</td>\n",
       "\t\t<td>0</td>\n",
       "\t\t<td>26.6</td>\n",
       "\t\t<td>0.351</td>\n",
       "\t\t<td>31</td>\n",
       "\t</tr>\n",
       "\t<tr>\n",
       "\t\t<td>0</td>\n",
       "\t\t<td>6</td>\n",
       "\t\t<td>148</td>\n",
       "\t\t<td>72</td>\n",
       "\t\t<td>35</td>\n",
       "\t\t<td>0</td>\n",
       "\t\t<td>33.6</td>\n",
       "\t\t<td>0.627</td>\n",
       "\t\t<td>50</td>\n",
       "\t</tr>\n",
       "</table></html>"
      ],
      "text/plain": [
       "   PatientId  NumTimesPrg  PlGlcConc  BloodP  SkinThick  TwoHourSerIns   BMI  DiPedFunc  Age\n",
       "0          2            8        183      64          0              0  23.3      0.672   32\n",
       "1          1            1         85      66         29              0  26.6      0.351   31\n",
       "2          0            6        148      72         35              0  33.6      0.627   50"
      ]
     },
     "execution_count": 27,
     "metadata": {},
     "output_type": "execute_result"
    }
   ],
   "source": [
    "df = DataFrame('{database}.\"pima_patient_features\"')\n",
    "df.head(3)"
   ]
  },
  {
   "cell_type": "code",
   "execution_count": 28,
   "id": "7226ebf0-d4d4-4b84-b976-b327a162336c",
   "metadata": {},
   "outputs": [
    {
     "data": {
      "text/html": [
       "<style type=\"text/css\">\n",
       "\ttable {border:ridge 5px;}\n",
       "\ttable td {border:inset 1px;}\n",
       "\ttable tr#HeaderRow {background-color:grey; color:white;}</style>\n",
       "<html><table>\n",
       "\t<tr id=\"HeaderRow\">\n",
       "\t\t<th>model_id</th>\n",
       "\t\t<th>model</th>\n",
       "\t</tr>\n",
       "\t<tr>\n",
       "\t\t<td>diagnostico_diabetes_rf</td>\n",
       "\t\t<td>b'3C3F786D6C20766572...'</td>\n",
       "\t</tr>\n",
       "</table></html>"
      ],
      "text/plain": [
       "                                            model\n",
       "model_id                                         \n",
       "diagnostico_diabetes_rf  b'3C3F786D6C20766572...'"
      ]
     },
     "execution_count": 28,
     "metadata": {},
     "output_type": "execute_result"
    }
   ],
   "source": [
    "modelo = retrieve_byom(\"diagnostico_diabetes_rf\", table_name=\"modelos_rf\")\n",
    "modelo"
   ]
  },
  {
   "cell_type": "code",
   "execution_count": 30,
   "id": "739de0a0-8ecd-4e6b-ad75-cc8b4196bf53",
   "metadata": {},
   "outputs": [],
   "source": [
    "configure.byom_install_location = \"MLDB\"\n",
    "prediction = PMMLPredict(\n",
    "            modeldata=modelo,\n",
    "            newdata=df,\n",
    "            accumulate='PatientId')"
   ]
  },
  {
   "cell_type": "code",
   "execution_count": 31,
   "id": "0c1b33ac-0705-4822-b1bb-afb639b9ce58",
   "metadata": {},
   "outputs": [
    {
     "data": {
      "text/plain": [
       "############ STDOUT Output ############\n",
       "\n",
       "   PatientId prediction                                                                                           json_report\n",
       "0        734          0    {\"probability_0\":0.9768986687837254,\"probability_1\":0.02310133121627458,\"predicted_HasDiabetes\":0}\n",
       "1          0          1    {\"probability_0\":0.06581358523585568,\"probability_1\":0.9341864147641443,\"predicted_HasDiabetes\":1}\n",
       "2         61          1    {\"probability_0\":0.09775174319883084,\"probability_1\":0.9022482568011692,\"predicted_HasDiabetes\":1}\n",
       "3        530          0  {\"probability_0\":0.9932391738431502,\"probability_1\":0.0067608261568498276,\"predicted_HasDiabetes\":0}\n",
       "4        591          0   {\"probability_0\":0.9917639473673989,\"probability_1\":0.008236052632601056,\"predicted_HasDiabetes\":0}\n",
       "5        427          1   {\"probability_0\":0.017599795642817773,\"probability_1\":0.9824002043571822,\"predicted_HasDiabetes\":1}\n",
       "6         40          1   {\"probability_0\":0.014731937928161631,\"probability_1\":0.9852680620718384,\"predicted_HasDiabetes\":1}\n",
       "7        122          0    {\"probability_0\":0.968890386377149,\"probability_1\":0.031109613622850977,\"predicted_HasDiabetes\":0}\n",
       "8        265          0    {\"probability_0\":0.5361277298304299,\"probability_1\":0.46387227016957006,\"predicted_HasDiabetes\":0}\n",
       "9        469          0    {\"probability_0\":0.8745927635194019,\"probability_1\":0.12540723648059815,\"predicted_HasDiabetes\":0}"
      ]
     },
     "execution_count": 31,
     "metadata": {},
     "output_type": "execute_result"
    }
   ],
   "source": [
    "prediction"
   ]
  },
  {
   "cell_type": "code",
   "execution_count": 33,
   "id": "6264dd6b-f5de-473c-8bce-b6dd99dbf269",
   "metadata": {},
   "outputs": [
    {
     "data": {
      "text/html": [
       "<div>\n",
       "<style scoped>\n",
       "    .dataframe tbody tr th:only-of-type {\n",
       "        vertical-align: middle;\n",
       "    }\n",
       "\n",
       "    .dataframe tbody tr th {\n",
       "        vertical-align: top;\n",
       "    }\n",
       "\n",
       "    .dataframe thead th {\n",
       "        text-align: right;\n",
       "    }\n",
       "</style>\n",
       "<table border=\"1\" class=\"dataframe\">\n",
       "  <thead>\n",
       "    <tr style=\"text-align: right;\">\n",
       "      <th></th>\n",
       "      <th>PatientId</th>\n",
       "      <th>prediction</th>\n",
       "      <th>json_report</th>\n",
       "    </tr>\n",
       "  </thead>\n",
       "  <tbody>\n",
       "    <tr>\n",
       "      <th>0</th>\n",
       "      <td>469</td>\n",
       "      <td>0</td>\n",
       "      <td>{\"probability_0\":0.8745927635194019,\"probability_1\":0.12540723648059815,\"predicted_HasDiabetes\":0}</td>\n",
       "    </tr>\n",
       "    <tr>\n",
       "      <th>1</th>\n",
       "      <td>265</td>\n",
       "      <td>0</td>\n",
       "      <td>{\"probability_0\":0.5361277298304299,\"probability_1\":0.46387227016957006,\"predicted_HasDiabetes\":0}</td>\n",
       "    </tr>\n",
       "    <tr>\n",
       "      <th>2</th>\n",
       "      <td>734</td>\n",
       "      <td>0</td>\n",
       "      <td>{\"probability_0\":0.9768986687837254,\"probability_1\":0.02310133121627458,\"predicted_HasDiabetes\":0}</td>\n",
       "    </tr>\n",
       "    <tr>\n",
       "      <th>3</th>\n",
       "      <td>122</td>\n",
       "      <td>0</td>\n",
       "      <td>{\"probability_0\":0.968890386377149,\"probability_1\":0.031109613622850977,\"predicted_HasDiabetes\":0}</td>\n",
       "    </tr>\n",
       "    <tr>\n",
       "      <th>4</th>\n",
       "      <td>0</td>\n",
       "      <td>1</td>\n",
       "      <td>{\"probability_0\":0.06581358523585568,\"probability_1\":0.9341864147641443,\"predicted_HasDiabetes\":1}</td>\n",
       "    </tr>\n",
       "    <tr>\n",
       "      <th>...</th>\n",
       "      <td>...</td>\n",
       "      <td>...</td>\n",
       "      <td>...</td>\n",
       "    </tr>\n",
       "    <tr>\n",
       "      <th>763</th>\n",
       "      <td>511</td>\n",
       "      <td>0</td>\n",
       "      <td>{\"probability_0\":0.9963771121691171,\"probability_1\":0.0036228878308829844,\"predicted_HasDiabetes\":0}</td>\n",
       "    </tr>\n",
       "    <tr>\n",
       "      <th>764</th>\n",
       "      <td>551</td>\n",
       "      <td>0</td>\n",
       "      <td>{\"probability_0\":0.9866352992696981,\"probability_1\":0.013364700730301932,\"predicted_HasDiabetes\":0}</td>\n",
       "    </tr>\n",
       "    <tr>\n",
       "      <th>765</th>\n",
       "      <td>633</td>\n",
       "      <td>0</td>\n",
       "      <td>{\"probability_0\":0.9959932947895436,\"probability_1\":0.004006705210456415,\"predicted_HasDiabetes\":0}</td>\n",
       "    </tr>\n",
       "    <tr>\n",
       "      <th>766</th>\n",
       "      <td>143</td>\n",
       "      <td>1</td>\n",
       "      <td>{\"probability_0\":0.08588086940182293,\"probability_1\":0.9141191305981771,\"predicted_HasDiabetes\":1}</td>\n",
       "    </tr>\n",
       "    <tr>\n",
       "      <th>767</th>\n",
       "      <td>408</td>\n",
       "      <td>1</td>\n",
       "      <td>{\"probability_0\":0.03085699110072493,\"probability_1\":0.9691430088992751,\"predicted_HasDiabetes\":1}</td>\n",
       "    </tr>\n",
       "  </tbody>\n",
       "</table>\n",
       "<p>768 rows × 3 columns</p>\n",
       "</div>"
      ],
      "text/plain": [
       "     PatientId prediction  \\\n",
       "0          469          0   \n",
       "1          265          0   \n",
       "2          734          0   \n",
       "3          122          0   \n",
       "4            0          1   \n",
       "..         ...        ...   \n",
       "763        511          0   \n",
       "764        551          0   \n",
       "765        633          0   \n",
       "766        143          1   \n",
       "767        408          1   \n",
       "\n",
       "                                                                                              json_report  \n",
       "0      {\"probability_0\":0.8745927635194019,\"probability_1\":0.12540723648059815,\"predicted_HasDiabetes\":0}  \n",
       "1      {\"probability_0\":0.5361277298304299,\"probability_1\":0.46387227016957006,\"predicted_HasDiabetes\":0}  \n",
       "2      {\"probability_0\":0.9768986687837254,\"probability_1\":0.02310133121627458,\"predicted_HasDiabetes\":0}  \n",
       "3      {\"probability_0\":0.968890386377149,\"probability_1\":0.031109613622850977,\"predicted_HasDiabetes\":0}  \n",
       "4      {\"probability_0\":0.06581358523585568,\"probability_1\":0.9341864147641443,\"predicted_HasDiabetes\":1}  \n",
       "..                                                                                                    ...  \n",
       "763  {\"probability_0\":0.9963771121691171,\"probability_1\":0.0036228878308829844,\"predicted_HasDiabetes\":0}  \n",
       "764   {\"probability_0\":0.9866352992696981,\"probability_1\":0.013364700730301932,\"predicted_HasDiabetes\":0}  \n",
       "765   {\"probability_0\":0.9959932947895436,\"probability_1\":0.004006705210456415,\"predicted_HasDiabetes\":0}  \n",
       "766    {\"probability_0\":0.08588086940182293,\"probability_1\":0.9141191305981771,\"predicted_HasDiabetes\":1}  \n",
       "767    {\"probability_0\":0.03085699110072493,\"probability_1\":0.9691430088992751,\"predicted_HasDiabetes\":1}  \n",
       "\n",
       "[768 rows x 3 columns]"
      ]
     },
     "execution_count": 33,
     "metadata": {},
     "output_type": "execute_result"
    }
   ],
   "source": [
    "## SQL\n",
    "predicciones = DataFrame.from_query(\"\"\"\n",
    "     SELECT * FROM MLDB.PMMLPredict (\n",
    "        ON teradataml.pima_patient_features AS InputTable\n",
    "        ON (SELECT * FROM teradataml.modelos_rf WHERE model_id='diagnostico_diabetes_rf') AS ModelTable DIMENSION\n",
    "    USING\n",
    "          Accumulate ('PatientID')\n",
    "    ) AS td\"\"\").to_pandas()\n",
    "predicciones"
   ]
  },
  {
   "cell_type": "markdown",
   "id": "1aa08ea1-125a-41f3-b0c7-8464a5113c76",
   "metadata": {},
   "source": [
    "### Trabajando sin mover los datos de Teradata"
   ]
  },
  {
   "cell_type": "code",
   "execution_count": 34,
   "id": "e1c4650e-8450-4d03-bb9e-78ef7fff15f1",
   "metadata": {},
   "outputs": [],
   "source": [
    "prediccionesTD = DataFrame.from_query(\"\"\"\n",
    "     SELECT * FROM MLDB.PMMLPredict (\n",
    "        ON teradataml.pima_patient_features AS InputTable\n",
    "        ON (SELECT * FROM teradataml.modelos_rf WHERE model_id='diagnostico_diabetes_rf') AS ModelTable DIMENSION\n",
    "    USING\n",
    "          Accumulate ('PatientID')\n",
    "    ) AS td\"\"\")"
   ]
  },
  {
   "cell_type": "code",
   "execution_count": 35,
   "id": "3e3a36c1-19ce-40d9-b9b1-4df9bd8a9931",
   "metadata": {},
   "outputs": [],
   "source": [
    "from teradataml import copy_to_sql\n",
    "copy_to_sql(df = prediccionesTD, table_name = \"prediccionDiabetes\", primary_index=\"PatientId\", if_exists=\"replace\")"
   ]
  },
  {
   "cell_type": "code",
   "execution_count": 36,
   "id": "f5b09dd4-dea0-4b52-93a8-91f37ddcd19c",
   "metadata": {},
   "outputs": [
    {
     "data": {
      "text/html": [
       "<style type=\"text/css\">\n",
       "\ttable {border:ridge 5px;}\n",
       "\ttable td {border:inset 1px;}\n",
       "\ttable tr#HeaderRow {background-color:grey; color:white;}</style>\n",
       "<html><table>\n",
       "\t<tr id=\"HeaderRow\">\n",
       "\t\t<th>PatientId</th>\n",
       "\t\t<th>prediction</th>\n",
       "\t\t<th>json_report</th>\n",
       "\t</tr>\n",
       "\t<tr>\n",
       "\t\t<td>402</td>\n",
       "\t\t<td>1</td>\n",
       "\t\t<td>{\"probability_0\":0.23667171219591787,\"probability_1\":0.7633282878040821,\"predicted_HasDiabetes\":1}</td>\n",
       "\t</tr>\n",
       "\t<tr>\n",
       "\t\t<td>379</td>\n",
       "\t\t<td>0</td>\n",
       "\t\t<td>{\"probability_0\":0.9755544367443019,\"probability_1\":0.024445563255698147,\"predicted_HasDiabetes\":0}</td>\n",
       "\t</tr>\n",
       "\t<tr>\n",
       "\t\t<td>427</td>\n",
       "\t\t<td>1</td>\n",
       "\t\t<td>{\"probability_0\":0.017599795642817773,\"probability_1\":0.9824002043571822,\"predicted_HasDiabetes\":1}</td>\n",
       "\t</tr>\n",
       "\t<tr>\n",
       "\t\t<td>295</td>\n",
       "\t\t<td>1</td>\n",
       "\t\t<td>{\"probability_0\":0.1237526411534412,\"probability_1\":0.8762473588465588,\"predicted_HasDiabetes\":1}</td>\n",
       "\t</tr>\n",
       "\t<tr>\n",
       "\t\t<td>101</td>\n",
       "\t\t<td>0</td>\n",
       "\t\t<td>{\"probability_0\":0.9869249432557844,\"probability_1\":0.013075056744215607,\"predicted_HasDiabetes\":0}</td>\n",
       "\t</tr>\n",
       "\t<tr>\n",
       "\t\t<td>19</td>\n",
       "\t\t<td>1</td>\n",
       "\t\t<td>{\"probability_0\":0.13734088756892637,\"probability_1\":0.8626591124310736,\"predicted_HasDiabetes\":1}</td>\n",
       "\t</tr>\n",
       "\t<tr>\n",
       "\t\t<td>141</td>\n",
       "\t\t<td>0</td>\n",
       "\t\t<td>{\"probability_0\":0.8793171537908955,\"probability_1\":0.12068284620910454,\"predicted_HasDiabetes\":0}</td>\n",
       "\t</tr>\n",
       "\t<tr>\n",
       "\t\t<td>762</td>\n",
       "\t\t<td>0</td>\n",
       "\t\t<td>{\"probability_0\":0.9946098557121638,\"probability_1\":0.005390144287836211,\"predicted_HasDiabetes\":0}</td>\n",
       "\t</tr>\n",
       "\t<tr>\n",
       "\t\t<td>631</td>\n",
       "\t\t<td>0</td>\n",
       "\t\t<td>{\"probability_0\":0.9663924480605154,\"probability_1\":0.033607551939484635,\"predicted_HasDiabetes\":0}</td>\n",
       "\t</tr>\n",
       "\t<tr>\n",
       "\t\t<td>507</td>\n",
       "\t\t<td>0</td>\n",
       "\t\t<td>{\"probability_0\":0.9566119541857399,\"probability_1\":0.043388045814260194,\"predicted_HasDiabetes\":0}</td>\n",
       "\t</tr>\n",
       "</table></html>"
      ],
      "text/plain": [
       "          prediction                                                                                           json_report\n",
       "PatientId                                                                                                                 \n",
       "202                0    {\"probability_0\":0.8513414631365671,\"probability_1\":0.14865853686343286,\"predicted_HasDiabetes\":0}\n",
       "627                0    {\"probability_0\":0.8952778492442359,\"probability_1\":0.10472215075576402,\"predicted_HasDiabetes\":0}\n",
       "671                0   {\"probability_0\":0.9992856636550609,\"probability_1\":7.143363449390814E-4,\"predicted_HasDiabetes\":0}\n",
       "59                 0   {\"probability_0\":0.9931390756024049,\"probability_1\":0.006860924397595164,\"predicted_HasDiabetes\":0}\n",
       "131                1    {\"probability_0\":0.08413671112091659,\"probability_1\":0.9158632888790834,\"predicted_HasDiabetes\":1}\n",
       "547                0    {\"probability_0\":0.9281210762796943,\"probability_1\":0.07187892372030574,\"predicted_HasDiabetes\":0}\n",
       "533                0   {\"probability_0\":0.9978964909656693,\"probability_1\":0.002103509034330695,\"predicted_HasDiabetes\":0}\n",
       "665                0    {\"probability_0\":0.9105175035756525,\"probability_1\":0.08948249642434751,\"predicted_HasDiabetes\":0}\n",
       "322                1    {\"probability_0\":0.11678064569767577,\"probability_1\":0.8832193543023242,\"predicted_HasDiabetes\":1}\n",
       "509                0  {\"probability_0\":0.9968938560686431,\"probability_1\":0.0031061439313568554,\"predicted_HasDiabetes\":0}"
      ]
     },
     "execution_count": 36,
     "metadata": {},
     "output_type": "execute_result"
    }
   ],
   "source": [
    "df = DataFrame(\"prediccionDiabetes\")\n",
    "df"
   ]
  },
  {
   "cell_type": "code",
   "execution_count": null,
   "id": "51680754-1902-4444-a4a8-73a7064510c9",
   "metadata": {},
   "outputs": [],
   "source": [
    "remove_context()"
   ]
  }
 ],
 "metadata": {
  "kernelspec": {
   "display_name": "vantage",
   "language": "python",
   "name": "vantage"
  },
  "language_info": {
   "codemirror_mode": {
    "name": "ipython",
    "version": 3
   },
   "file_extension": ".py",
   "mimetype": "text/x-python",
   "name": "python",
   "nbconvert_exporter": "python",
   "pygments_lexer": "ipython3",
   "version": "3.10.5"
  }
 },
 "nbformat": 4,
 "nbformat_minor": 5
}
