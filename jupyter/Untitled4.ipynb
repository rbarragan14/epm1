{
 "cells": [
  {
   "cell_type": "code",
   "execution_count": null,
   "id": "eed8080a-1f24-440f-ad40-5beeeb8e4c8b",
   "metadata": {},
   "outputs": [],
   "source": []
  }
 ],
 "metadata": {
  "kernelspec": {
   "display_name": "",
   "name": ""
  },
  "language_info": {
   "name": ""
  }
 },
 "nbformat": 4,
 "nbformat_minor": 5
}
