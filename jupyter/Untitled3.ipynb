{
 "cells": [
  {
   "cell_type": "code",
   "execution_count": null,
   "id": "c987b98b-4ae0-4a8f-bc0f-2dd829d2c0bd",
   "metadata": {},
   "outputs": [],
   "source": []
  }
 ],
 "metadata": {
  "kernelspec": {
   "display_name": "",
   "name": ""
  },
  "language_info": {
   "name": ""
  }
 },
 "nbformat": 4,
 "nbformat_minor": 5
}
